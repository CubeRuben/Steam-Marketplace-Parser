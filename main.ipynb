{
 "cells": [
  {
   "cell_type": "code",
   "execution_count": 2,
   "metadata": {},
   "outputs": [],
   "source": [
    "import requests\n",
    "import pandas as pd\n",
    "import json\n",
    "from bs4 import BeautifulSoup"
   ]
  },
  {
   "cell_type": "code",
   "execution_count": 3,
   "metadata": {},
   "outputs": [],
   "source": [
    "response = requests.get('https://steamcommunity.com/market/search')\n",
    "general_soup = BeautifulSoup(response.text, 'html.parser')"
   ]
  },
  {
   "cell_type": "code",
   "execution_count": 4,
   "metadata": {},
   "outputs": [],
   "source": [
    "names = []\n",
    "ids = []\n",
    "images_url = []\n",
    "\n",
    "for row in general_soup.find(id='market_advancedsearch_appselect_options_apps').find_all('div', {'class': 'popup_item'})[1:]:\n",
    "    names.append(row.span.text)\n",
    "    ids.append(row['data-appid'])\n",
    "    images_url.append(row.img['src'])\n",
    "\n",
    "apps_df = pd.DataFrame({'names': names, 'ids': ids, 'images_url': images_url})"
   ]
  },
  {
   "cell_type": "code",
   "execution_count": 5,
   "metadata": {},
   "outputs": [
    {
     "data": {
      "text/html": [
       "<div>\n",
       "<style scoped>\n",
       "    .dataframe tbody tr th:only-of-type {\n",
       "        vertical-align: middle;\n",
       "    }\n",
       "\n",
       "    .dataframe tbody tr th {\n",
       "        vertical-align: top;\n",
       "    }\n",
       "\n",
       "    .dataframe thead th {\n",
       "        text-align: right;\n",
       "    }\n",
       "</style>\n",
       "<table border=\"1\" class=\"dataframe\">\n",
       "  <thead>\n",
       "    <tr style=\"text-align: right;\">\n",
       "      <th></th>\n",
       "      <th>names</th>\n",
       "      <th>ids</th>\n",
       "      <th>images_url</th>\n",
       "    </tr>\n",
       "  </thead>\n",
       "  <tbody>\n",
       "    <tr>\n",
       "      <th>0</th>\n",
       "      <td>!Anyway!</td>\n",
       "      <td>866510</td>\n",
       "      <td>https://cdn.cloudflare.steamstatic.com/steamco...</td>\n",
       "    </tr>\n",
       "    <tr>\n",
       "      <th>1</th>\n",
       "      <td>#monstercakes</td>\n",
       "      <td>614910</td>\n",
       "      <td>https://cdn.cloudflare.steamstatic.com/steamco...</td>\n",
       "    </tr>\n",
       "    <tr>\n",
       "      <th>2</th>\n",
       "      <td>- Arcane Raise -</td>\n",
       "      <td>603750</td>\n",
       "      <td>https://cdn.cloudflare.steamstatic.com/steamco...</td>\n",
       "    </tr>\n",
       "    <tr>\n",
       "      <th>3</th>\n",
       "      <td>100% Orange Juice</td>\n",
       "      <td>282800</td>\n",
       "      <td>https://cdn.cloudflare.steamstatic.com/steamco...</td>\n",
       "    </tr>\n",
       "    <tr>\n",
       "      <th>4</th>\n",
       "      <td>A Hat in Time</td>\n",
       "      <td>253230</td>\n",
       "      <td>https://cdn.cloudflare.steamstatic.com/steamco...</td>\n",
       "    </tr>\n",
       "    <tr>\n",
       "      <th>...</th>\n",
       "      <td>...</td>\n",
       "      <td>...</td>\n",
       "      <td>...</td>\n",
       "    </tr>\n",
       "    <tr>\n",
       "      <th>171</th>\n",
       "      <td>Zombie Grinder</td>\n",
       "      <td>263920</td>\n",
       "      <td>https://cdn.cloudflare.steamstatic.com/steamco...</td>\n",
       "    </tr>\n",
       "    <tr>\n",
       "      <th>172</th>\n",
       "      <td>Zup! Arena</td>\n",
       "      <td>914160</td>\n",
       "      <td>https://cdn.cloudflare.steamstatic.com/steamco...</td>\n",
       "    </tr>\n",
       "    <tr>\n",
       "      <th>173</th>\n",
       "      <td>n-body VR</td>\n",
       "      <td>714910</td>\n",
       "      <td>https://cdn.cloudflare.steamstatic.com/steamco...</td>\n",
       "    </tr>\n",
       "    <tr>\n",
       "      <th>174</th>\n",
       "      <td>中国象棋</td>\n",
       "      <td>722670</td>\n",
       "      <td>https://cdn.cloudflare.steamstatic.com/steamco...</td>\n",
       "    </tr>\n",
       "    <tr>\n",
       "      <th>175</th>\n",
       "      <td>武侠乂</td>\n",
       "      <td>840140</td>\n",
       "      <td>https://cdn.cloudflare.steamstatic.com/steamco...</td>\n",
       "    </tr>\n",
       "  </tbody>\n",
       "</table>\n",
       "<p>176 rows × 3 columns</p>\n",
       "</div>"
      ],
      "text/plain": [
       "                 names     ids  \\\n",
       "0             !Anyway!  866510   \n",
       "1        #monstercakes  614910   \n",
       "2     - Arcane Raise -  603750   \n",
       "3    100% Orange Juice  282800   \n",
       "4        A Hat in Time  253230   \n",
       "..                 ...     ...   \n",
       "171     Zombie Grinder  263920   \n",
       "172         Zup! Arena  914160   \n",
       "173          n-body VR  714910   \n",
       "174               中国象棋  722670   \n",
       "175                武侠乂  840140   \n",
       "\n",
       "                                            images_url  \n",
       "0    https://cdn.cloudflare.steamstatic.com/steamco...  \n",
       "1    https://cdn.cloudflare.steamstatic.com/steamco...  \n",
       "2    https://cdn.cloudflare.steamstatic.com/steamco...  \n",
       "3    https://cdn.cloudflare.steamstatic.com/steamco...  \n",
       "4    https://cdn.cloudflare.steamstatic.com/steamco...  \n",
       "..                                                 ...  \n",
       "171  https://cdn.cloudflare.steamstatic.com/steamco...  \n",
       "172  https://cdn.cloudflare.steamstatic.com/steamco...  \n",
       "173  https://cdn.cloudflare.steamstatic.com/steamco...  \n",
       "174  https://cdn.cloudflare.steamstatic.com/steamco...  \n",
       "175  https://cdn.cloudflare.steamstatic.com/steamco...  \n",
       "\n",
       "[176 rows x 3 columns]"
      ]
     },
     "execution_count": 5,
     "metadata": {},
     "output_type": "execute_result"
    }
   ],
   "source": [
    "apps_df"
   ]
  },
  {
   "cell_type": "code",
   "execution_count": 6,
   "metadata": {},
   "outputs": [],
   "source": [
    "apps_df.to_csv('apps.csv')"
   ]
  },
  {
   "cell_type": "code",
   "execution_count": 23,
   "metadata": {},
   "outputs": [
    {
     "name": "stdout",
     "output_type": "stream",
     "text": [
      "Reading from 0 to 100\n"
     ]
    },
    {
     "data": {
      "text/html": [
       "<div>\n",
       "<style scoped>\n",
       "    .dataframe tbody tr th:only-of-type {\n",
       "        vertical-align: middle;\n",
       "    }\n",
       "\n",
       "    .dataframe tbody tr th {\n",
       "        vertical-align: top;\n",
       "    }\n",
       "\n",
       "    .dataframe thead th {\n",
       "        text-align: right;\n",
       "    }\n",
       "</style>\n",
       "<table border=\"1\" class=\"dataframe\">\n",
       "  <thead>\n",
       "    <tr style=\"text-align: right;\">\n",
       "      <th></th>\n",
       "      <th>names</th>\n",
       "      <th>prices</th>\n",
       "      <th>icons_url</th>\n",
       "    </tr>\n",
       "  </thead>\n",
       "  <tbody>\n",
       "  </tbody>\n",
       "</table>\n",
       "</div>"
      ],
      "text/plain": [
       "Empty DataFrame\n",
       "Columns: [names, prices, icons_url]\n",
       "Index: []"
      ]
     },
     "execution_count": 23,
     "metadata": {},
     "output_type": "execute_result"
    }
   ],
   "source": [
    "app_id = 730\n",
    "iterator = 0\n",
    "page_size = 100\n",
    "total_count = 0\n",
    "\n",
    "names = []\n",
    "prices = []\n",
    "icons_url = []\n",
    "\n",
    "\n",
    "while(True):\n",
    "    \n",
    "    print('Reading from {} to {}'.format(iterator, page_size + iterator))\n",
    "\n",
    "    items = json.loads(requests.get('https://steamcommunity.com/market/search/render/?query=&start={}&count={}&norender=1&search_descriptions=0&sort_column=popular&sort_dir=desc&appid={}'.format(iterator, page_size, app_id)).text)\n",
    "\n",
    "    if items is None:\n",
    "        break\n",
    "\n",
    "    total_count = items['total_count']\n",
    "\n",
    "    for item in items['results']:\n",
    "        names.append(item['name'])\n",
    "        prices.append(item['sell_price_text'])\n",
    "        icons_url.append(item['app_icon'])\n",
    "\n",
    "    if iterator + page_size > total_count:\n",
    "        break\n",
    "\n",
    "    iterator += page_size\n",
    "\n",
    "\n",
    "items_df = pd.DataFrame({'names': names, 'prices': prices, 'icons_url': icons_url})\n",
    "items_df.to_csv('items_{}.csv'.format(app_id))\n",
    "items_df"
   ]
  }
 ],
 "metadata": {
  "kernelspec": {
   "display_name": "Python 3",
   "language": "python",
   "name": "python3"
  },
  "language_info": {
   "codemirror_mode": {
    "name": "ipython",
    "version": 3
   },
   "file_extension": ".py",
   "mimetype": "text/x-python",
   "name": "python",
   "nbconvert_exporter": "python",
   "pygments_lexer": "ipython3",
   "version": "3.11.4"
  }
 },
 "nbformat": 4,
 "nbformat_minor": 2
}
